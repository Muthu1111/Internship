{
 "cells": [
  {
   "cell_type": "code",
   "execution_count": 1,
   "id": "d67aa7df",
   "metadata": {},
   "outputs": [],
   "source": [
    "import pandas as pd\n",
    "import re"
   ]
  },
  {
   "cell_type": "markdown",
   "id": "734560a6",
   "metadata": {},
   "source": [
    "# Answer 1"
   ]
  },
  {
   "cell_type": "code",
   "execution_count": 3,
   "id": "9251ee89",
   "metadata": {},
   "outputs": [
    {
     "name": "stdout",
     "output_type": "stream",
     "text": [
      "Python:Exercises::PHP:exercises:\n"
     ]
    }
   ],
   "source": [
    "def rep_with_colon(string):\n",
    "    pattern = r\"[ ,.]\"\n",
    "    string = re.sub(pattern,\":\",string)\n",
    "    return string\n",
    "print(rep_with_colon(\"Python Exercises, PHP exercises.\"))"
   ]
  },
  {
   "cell_type": "markdown",
   "id": "d15042a1",
   "metadata": {},
   "source": [
    "# Answer 2"
   ]
  },
  {
   "cell_type": "code",
   "execution_count": 57,
   "id": "8a78c3ac",
   "metadata": {},
   "outputs": [
    {
     "name": "stdout",
     "output_type": "stream",
     "text": [
      "                  SUMMARY\n",
      "0           hello  world \n",
      "1                    test\n",
      "2     four  five   six   \n"
     ]
    }
   ],
   "source": [
    "dict1={'SUMMARY' : ['hello, world!', 'XXXXX test', '123four, five:; six...']}\n",
    "df=pd.DataFrame(dict1)\n",
    "def remove_non_words(string):\n",
    "    pattern=r\"[\\WX\\d]\"\n",
    "    string=re.sub(pattern,\" \",string)\n",
    "    return string\n",
    "df['SUMMARY']=df['SUMMARY'].apply(remove_non_words)\n",
    "print(df)"
   ]
  },
  {
   "cell_type": "markdown",
   "id": "cec65806",
   "metadata": {},
   "source": [
    "# Answer 3"
   ]
  },
  {
   "cell_type": "code",
   "execution_count": 75,
   "id": "63925a2a",
   "metadata": {},
   "outputs": [
    {
     "name": "stdout",
     "output_type": "stream",
     "text": [
      "['Data', 'Science', 'tools', 'used', 'everywhere']\n"
     ]
    }
   ],
   "source": [
    "def find_words(string):\n",
    "    pattern = re.compile(r\"\\b\\w{4,}\")\n",
    "    words = pattern.findall(string)\n",
    "    return words\n",
    "print(find_words(\"Data Science tools are used everywhere.\"))"
   ]
  },
  {
   "cell_type": "markdown",
   "id": "ca9f29fb",
   "metadata": {},
   "source": [
    "# Answer 4"
   ]
  },
  {
   "cell_type": "code",
   "execution_count": 84,
   "id": "cc001617",
   "metadata": {},
   "outputs": [
    {
     "name": "stdout",
     "output_type": "stream",
     "text": [
      "['Data', 'tools', 'are', 'used']\n"
     ]
    }
   ],
   "source": [
    "def find_words(string):\n",
    "    pattern = re.compile(r\"\\b\\w{3,5}\\b\")\n",
    "    words = pattern.findall(string)\n",
    "    return words\n",
    "print(find_words(\"Data Science tools are used everywhere.\"))"
   ]
  },
  {
   "cell_type": "markdown",
   "id": "9406b1a7",
   "metadata": {},
   "source": [
    "# Answer 5"
   ]
  },
  {
   "cell_type": "code",
   "execution_count": 2,
   "id": "9d35678b",
   "metadata": {},
   "outputs": [
    {
     "name": "stdout",
     "output_type": "stream",
     "text": [
      "example .com\n",
      "hr@fliprobo .com\n",
      "github .com\n",
      "Hello Data Science World\n",
      "Data Scientist\n"
     ]
    }
   ],
   "source": [
    "def remove_parenthesis(strings):\n",
    "    pattern=re.compile(r\"[()]\")\n",
    "    result=[pattern.sub(\"\",string) for string in strings]\n",
    "    return result\n",
    "sample_text=[\"example (.com)\", \"hr@fliprobo (.com)\", \"github (.com)\", \"Hello (Data Science World)\", \"Data (Scientist)\"]\n",
    "output=remove_parenthesis(sample_text)\n",
    "for string in output:\n",
    "    print(string)"
   ]
  },
  {
   "cell_type": "markdown",
   "id": "5f94136f",
   "metadata": {},
   "source": [
    "# Answer 6"
   ]
  },
  {
   "cell_type": "code",
   "execution_count": 9,
   "id": "d317fdf4",
   "metadata": {},
   "outputs": [
    {
     "name": "stdout",
     "output_type": "stream",
     "text": [
      "['example ', 'hr@fliprobo ', 'github ', 'Hello ', 'Data ']\n"
     ]
    }
   ],
   "source": [
    "def remove_parenthesis_area(f):\n",
    "    pattern=re.compile(r\"\\([^)]*\\)\") #Pattern to match anything inside parentheses\n",
    "    result=[pattern.sub(\"\",string) for string in f.readlines()] # Replace the matched characters with an empty string\n",
    "    result=[re.sub(\"\\n\",\"\",string) for string in result] #Replace new line characters with an empty string\n",
    "    return result\n",
    "sample_text=[\"example (.com)\", \"hr@fliprobo (.com)\", \"github (.com)\", \"Hello (Data Science World)\", \"Data (Scientist)\"]\n",
    "f=open(\"sample.txt\", \"w\")\n",
    "for line in sample_text:\n",
    "    f.write(line+\"\\n\")\n",
    "f=open(\"sample.txt\", \"r\")\n",
    "text=remove_parenthesis_area(f)\n",
    "print(text)\n",
    "f.close()"
   ]
  },
  {
   "cell_type": "markdown",
   "id": "6708f7e7",
   "metadata": {},
   "source": [
    "# Answer 7"
   ]
  },
  {
   "cell_type": "code",
   "execution_count": 10,
   "id": "b07aca5f",
   "metadata": {},
   "outputs": [
    {
     "name": "stdout",
     "output_type": "stream",
     "text": [
      "['Importance', 'Of', 'Regular', 'Expressions', 'In', 'Python']\n"
     ]
    }
   ],
   "source": [
    "sample_text=\"ImportanceOfRegularExpressionsInPython\"\n",
    "result=re.findall(\"[A-Z][^A-Z]*\",sample_text)\n",
    "print(result)"
   ]
  },
  {
   "cell_type": "markdown",
   "id": "61f23dda",
   "metadata": {},
   "source": [
    "# Answer 8"
   ]
  },
  {
   "cell_type": "code",
   "execution_count": 11,
   "id": "ad830d5b",
   "metadata": {},
   "outputs": [
    {
     "name": "stdout",
     "output_type": "stream",
     "text": [
      "RegularExpression 1IsAn 2ImportantTopic 3InPython\n"
     ]
    }
   ],
   "source": [
    "def insert_space(string):\n",
    "    result=re.sub(r\"([0-9])\",r\" \\1\",string)\n",
    "    return result\n",
    "sample_text=\"RegularExpression1IsAn2ImportantTopic3InPython\"\n",
    "print(insert_space(sample_text))"
   ]
  },
  {
   "cell_type": "markdown",
   "id": "7b3efd8e",
   "metadata": {},
   "source": [
    "# Answer 9"
   ]
  },
  {
   "cell_type": "code",
   "execution_count": 12,
   "id": "956ef847",
   "metadata": {},
   "outputs": [
    {
     "name": "stdout",
     "output_type": "stream",
     "text": [
      "RegularExpression 1 IsAn 2 ImportantTopic 3 InPython\n"
     ]
    }
   ],
   "source": [
    "def insert_space(string):\n",
    "    result=re.sub(r\"([0-9])([A-Z])\",r\" \\1 \\2\",string)\n",
    "    return result\n",
    "sample_text=\"RegularExpression1IsAn2ImportantTopic3InPython\"\n",
    "print(insert_space(sample_text))"
   ]
  },
  {
   "cell_type": "markdown",
   "id": "2e7c256c",
   "metadata": {},
   "source": [
    "# Answer 10"
   ]
  },
  {
   "cell_type": "code",
   "execution_count": 13,
   "id": "62cdb678",
   "metadata": {},
   "outputs": [
    {
     "name": "stdout",
     "output_type": "stream",
     "text": [
      "0      Switze\n",
      "1      Icelan\n",
      "2      Denmar\n",
      "3      Norway\n",
      "4      Canada\n",
      "        ...  \n",
      "153    Rwanda\n",
      "154     Benin\n",
      "155     Syria\n",
      "156    Burund\n",
      "157      Togo\n",
      "Name: first_five_letters, Length: 158, dtype: object\n"
     ]
    }
   ],
   "source": [
    "df=pd.read_csv(\"https://raw.githubusercontent.com/dsrscientist/DSData/master/happiness_score_dataset.csv\")\n",
    "df['first_five_letters'] = df['Country'].str.extract(r'^(.{1,6})',expand=False)\n",
    "print(df['first_five_letters'])"
   ]
  },
  {
   "cell_type": "markdown",
   "id": "1bffb855",
   "metadata": {},
   "source": [
    "# Answer 11"
   ]
  },
  {
   "cell_type": "code",
   "execution_count": 14,
   "id": "a19eec06",
   "metadata": {},
   "outputs": [
    {
     "name": "stdout",
     "output_type": "stream",
     "text": [
      "True\n",
      "False\n",
      "True\n",
      "True\n",
      "False\n",
      "True\n"
     ]
    }
   ],
   "source": [
    "def is_a_word(string):\n",
    "    #Pattern to check if the string contains only word characters (only upper and lower case letters, numbers and underscores)\n",
    "    pattern=r\"^\\w+$\"\n",
    "    #Return True if the string matches the condition otherwise return False\n",
    "    return bool(re.match(pattern,string))\n",
    "strings=['Python','Python Code','Python_Code','Hello12','Hello#@','1234']\n",
    "for string in strings:\n",
    "    print(is_a_word(string))"
   ]
  },
  {
   "cell_type": "markdown",
   "id": "a653acd4",
   "metadata": {},
   "source": [
    "# Answer 12"
   ]
  },
  {
   "cell_type": "code",
   "execution_count": 16,
   "id": "9c0fe424",
   "metadata": {},
   "outputs": [
    {
     "name": "stdout",
     "output_type": "stream",
     "text": [
      "26Python does not start with 1234\n",
      "1234this starts with 1234\n",
      "code does not start with 1234\n",
      "tools1234 does not start with 1234\n",
      "12345tools does not start with 1234\n",
      "1234$%computer starts with 1234\n"
     ]
    }
   ],
   "source": [
    "def starts_with_number(string, number):\n",
    "    pattern = r'^'+str(number)+r'\\D' #Pattern to check if the string starts with a specific number\n",
    "    return bool(re.match(pattern, string)) #Return True if the string starts with a specific number otherwise return false\n",
    "strings=[\"26Python\",\"1234this\",\"code\",\"tools1234\",\"12345tools\",\"1234$%computer\"] # Strings to test the condition\n",
    "number=1234\n",
    "for string in strings:\n",
    "    if starts_with_number(string,number):\n",
    "        print(string,\"starts with\",number)\n",
    "    else:\n",
    "        print(string,\"does not start with\",number)"
   ]
  },
  {
   "cell_type": "markdown",
   "id": "3719f099",
   "metadata": {},
   "source": [
    "# Answer 13"
   ]
  },
  {
   "cell_type": "code",
   "execution_count": 17,
   "id": "e122a26e",
   "metadata": {},
   "outputs": [
    {
     "name": "stdout",
     "output_type": "stream",
     "text": [
      "192.146.2.1\n"
     ]
    }
   ],
   "source": [
    "def remove_leading_zeros(ip_address):\n",
    "    pattern = r'\\b0+(\\d+)\\b'\n",
    "    return re.sub(pattern, r'\\1', ip_address)\n",
    "ip_address=\"192.146.002.001\"\n",
    "result=remove_leading_zeros(ip_address)\n",
    "print(result)"
   ]
  },
  {
   "cell_type": "markdown",
   "id": "379e75e3",
   "metadata": {},
   "source": [
    "# Answer 14"
   ]
  },
  {
   "cell_type": "code",
   "execution_count": 22,
   "id": "ecc39601",
   "metadata": {},
   "outputs": [
    {
     "name": "stdout",
     "output_type": "stream",
     "text": [
      "August 15th 1947\n"
     ]
    }
   ],
   "source": [
    "sample_text='On August 15th 1947 that India was declared independent from British colonialism, and the reins of control were handed over to the leaders of the Country'\n",
    "f=open(\"sample.txt\",\"w\")\n",
    "f.write(sample_text)\n",
    "f=open(\"sample.txt\",\"r\")\n",
    "pattern=r'\\b(?:January|February|March|April|May|June|July|August|September|October|November|December)\\s+\\d{1,2}(?:st|nd|rd|th)?\\s+\\d{4}\\b'\n",
    "strings = re.findall(pattern,f.read())\n",
    "for string in strings:\n",
    "    print(string)\n",
    "f.close()"
   ]
  },
  {
   "cell_type": "markdown",
   "id": "774d12e0",
   "metadata": {},
   "source": [
    "# Answer 15"
   ]
  },
  {
   "cell_type": "code",
   "execution_count": 23,
   "id": "515dffd8",
   "metadata": {},
   "outputs": [
    {
     "name": "stdout",
     "output_type": "stream",
     "text": [
      "fox - found\n",
      "dog - found\n",
      "horse - not found\n"
     ]
    }
   ],
   "source": [
    "def find_words(text, words):\n",
    "    for word in words:\n",
    "        if re.search(word,text):\n",
    "            print(word,\"- found\")\n",
    "        else:\n",
    "            print(word,\"- not found\")\n",
    "sample_text=\"The quick brown fox jumps over the lazy dog.\"\n",
    "searched_words=[\"fox\",\"dog\",\"horse\"]\n",
    "find_words(sample_text,searched_words)"
   ]
  },
  {
   "cell_type": "markdown",
   "id": "fb5bb9ff",
   "metadata": {},
   "source": [
    "# Answer 16"
   ]
  },
  {
   "cell_type": "code",
   "execution_count": 27,
   "id": "173352e0",
   "metadata": {},
   "outputs": [
    {
     "name": "stdout",
     "output_type": "stream",
     "text": [
      "fox - found and location is ( 16 , 19 )\n"
     ]
    }
   ],
   "source": [
    "def find_word(text, word):\n",
    "    match=re.search(word,text)\n",
    "    if match:\n",
    "        print(word,\"- found and location is (\",match.start(),\",\",match.end(),\")\")\n",
    "    else:\n",
    "        print(word,\"- not found\")\n",
    "sample_text=\"The quick brown fox jumps over the lazy dog.\"\n",
    "searched_word=\"fox\"\n",
    "find_word(sample_text,searched_word)"
   ]
  },
  {
   "cell_type": "markdown",
   "id": "6012279d",
   "metadata": {},
   "source": [
    "# Answer 17"
   ]
  },
  {
   "cell_type": "code",
   "execution_count": 25,
   "id": "aefd45c1",
   "metadata": {},
   "outputs": [
    {
     "name": "stdout",
     "output_type": "stream",
     "text": [
      "['exercises', 'exercises', 'exercises']\n"
     ]
    }
   ],
   "source": [
    "sample_text='Python exercises, PHP exercises, C# exercises'\n",
    "pattern='exercises'\n",
    "matches=re.findall(pattern,sample_text)\n",
    "print(matches)"
   ]
  },
  {
   "cell_type": "markdown",
   "id": "9f9ca1d6",
   "metadata": {},
   "source": [
    "# Answer 18"
   ]
  },
  {
   "cell_type": "code",
   "execution_count": 32,
   "id": "4561dfc6",
   "metadata": {},
   "outputs": [
    {
     "name": "stdout",
     "output_type": "stream",
     "text": [
      "Pattern 'exercises' found at position (7, 16)\n",
      "Pattern 'exercises' found at position (22, 31)\n",
      "Pattern 'exercises' found at position (36, 45)\n"
     ]
    }
   ],
   "source": [
    "def find_and_print_substrings(text,pattern):\n",
    "    matches=[]\n",
    "    for match in re.finditer(pattern,text):\n",
    "        matches.append((match.group(0),(match.start(),match.end())))\n",
    "    for match,position in matches:\n",
    "        print(f\"Pattern '{match}' found at position {position}\")\n",
    "text='Python exercises, PHP exercises, C# exercises'\n",
    "pattern='exercises'\n",
    "find_and_print_substrings(text,pattern)"
   ]
  },
  {
   "cell_type": "markdown",
   "id": "0d56be62",
   "metadata": {},
   "source": [
    "# Answer 19"
   ]
  },
  {
   "cell_type": "code",
   "execution_count": 29,
   "id": "567bbc02",
   "metadata": {},
   "outputs": [
    {
     "name": "stdout",
     "output_type": "stream",
     "text": [
      "07-03-2024\n"
     ]
    }
   ],
   "source": [
    "def convert_date_format(date):\n",
    "    pattern=r'(\\d{4})-(\\d{2})-(\\d{2})'\n",
    "    converted_date=re.sub(pattern,r'\\3-\\2-\\1',date)\n",
    "    return converted_date\n",
    "date='2024-03-07'\n",
    "converted_date=convert_date_format(date)\n",
    "print(converted_date)"
   ]
  },
  {
   "cell_type": "markdown",
   "id": "8c97db52",
   "metadata": {},
   "source": [
    "# Answer 20"
   ]
  },
  {
   "cell_type": "code",
   "execution_count": 30,
   "id": "32057a88",
   "metadata": {},
   "outputs": [
    {
     "name": "stdout",
     "output_type": "stream",
     "text": [
      "['01.12', '145.8', '3.01', '27.25', '0.25']\n"
     ]
    }
   ],
   "source": [
    "def find_decimal_numbers(text):\n",
    "    pattern=re.compile(r'\\b\\d+\\.\\d{1,2}\\b')\n",
    "    result=pattern.findall(text)\n",
    "    return result\n",
    "sample_text=\"01.12 0132.123 2.31875 145.8 3.01 27.25 0.25\"\n",
    "print(find_decimal_numbers(sample_text))"
   ]
  },
  {
   "cell_type": "markdown",
   "id": "f66bc59f",
   "metadata": {},
   "source": [
    "# Answer 21"
   ]
  },
  {
   "cell_type": "code",
   "execution_count": 34,
   "id": "33b6fedf",
   "metadata": {},
   "outputs": [
    {
     "name": "stdout",
     "output_type": "stream",
     "text": [
      "Number '1234' found at position (5, 9)\n",
      "Number '12' found at position (10, 12)\n",
      "Number '584' found at position (24, 27)\n",
      "Number '4758' found at position (31, 35)\n"
     ]
    }
   ],
   "source": [
    "def find_and_print_numbers(text):\n",
    "    matches=[]\n",
    "    for match in re.finditer('\\d+',text):\n",
    "        matches.append((match.group(0),(match.start(),match.end())))\n",
    "    for match,position in matches:\n",
    "        print(f\"Number '{match}' found at position {position}\")\n",
    "sample_text=\"This 1234 12is a Python 584 pro4758gram\"\n",
    "find_and_print_numbers(sample_text)"
   ]
  },
  {
   "cell_type": "markdown",
   "id": "e8b833fc",
   "metadata": {},
   "source": [
    "# Answer 22"
   ]
  },
  {
   "cell_type": "code",
   "execution_count": 35,
   "id": "67aaa7d3",
   "metadata": {},
   "outputs": [
    {
     "name": "stdout",
     "output_type": "stream",
     "text": [
      "The maximum/largest numeric value is 950\n"
     ]
    }
   ],
   "source": [
    "def extract_max_numeric_value(text):\n",
    "    numeric_values=re.findall('\\d+', text)\n",
    "    if numeric_values:\n",
    "        max_numeric_value=max(map(int,numeric_values))\n",
    "        return max_numeric_value\n",
    "    else:\n",
    "        return None\n",
    "sample_text='My marks in each semester are: 947, 896, 926, 524, 734, 950, 642'\n",
    "result=extract_max_numeric_value(sample_text)\n",
    "print(\"The maximum/largest numeric value is\",result)"
   ]
  },
  {
   "cell_type": "markdown",
   "id": "9c527891",
   "metadata": {},
   "source": [
    "# Answer 23"
   ]
  },
  {
   "cell_type": "code",
   "execution_count": 36,
   "id": "91a27a14",
   "metadata": {},
   "outputs": [
    {
     "name": "stdout",
     "output_type": "stream",
     "text": [
      "Regular Expression Is An Important Topic In Python\n"
     ]
    }
   ],
   "source": [
    "def insert_spaces(text):\n",
    "    result=re.sub(r\"(\\w)([A-Z])\", r\"\\1 \\2\",text)\n",
    "    return result\n",
    "sample_text='RegularExpressionIsAnImportantTopicInPython'\n",
    "result=insert_spaces(sample_text)\n",
    "print(result)"
   ]
  },
  {
   "cell_type": "markdown",
   "id": "643e1a98",
   "metadata": {},
   "source": [
    "# Answer 24"
   ]
  },
  {
   "cell_type": "code",
   "execution_count": 37,
   "id": "f90c3747",
   "metadata": {},
   "outputs": [
    {
     "name": "stdout",
     "output_type": "stream",
     "text": [
      "['Regular', 'Expression', 'Is', 'An', 'Important', 'Topic', 'In', 'Python']\n"
     ]
    }
   ],
   "source": [
    "def find_sequences(text):\n",
    "    pattern=r'[A-Z][a-z]+'\n",
    "    matches=re.findall(pattern,text)\n",
    "    return matches\n",
    "sample_text=\"RegularExpressionIsAnImportantTopicInPython\"\n",
    "result=find_sequences(sample_text)\n",
    "print(result)"
   ]
  },
  {
   "cell_type": "markdown",
   "id": "696b57e4",
   "metadata": {},
   "source": [
    "# Answer 25"
   ]
  },
  {
   "cell_type": "code",
   "execution_count": 2,
   "id": "60bf3a06",
   "metadata": {},
   "outputs": [
    {
     "name": "stdout",
     "output_type": "stream",
     "text": [
      "Hello hello world\n"
     ]
    }
   ],
   "source": [
    "def remove_duplicate_words(sentence):\n",
    "    pattern=r'\\b(\\w+)(\\s+\\1)+\\b'\n",
    "    result=re.sub(pattern,r'\\1',sentence)\n",
    "    return result\n",
    "sample_text=\"Hello hello world world\"\n",
    "result=remove_duplicate_words(sample_text)\n",
    "print(result)"
   ]
  },
  {
   "cell_type": "markdown",
   "id": "d87df08d",
   "metadata": {},
   "source": [
    "# Answer 26"
   ]
  },
  {
   "cell_type": "code",
   "execution_count": 3,
   "id": "37a8d630",
   "metadata": {},
   "outputs": [
    {
     "name": "stdout",
     "output_type": "stream",
     "text": [
      "Below are the strings that end with an alphanumeric character:\n",
      "Python12\n",
      "Code\n",
      "tools1234\n",
      "12test\n"
     ]
    }
   ],
   "source": [
    "def ends_with_alphanumeric(string):\n",
    "    pattern=r'^.*[a-zA-Z0-9]$'\n",
    "    if re.match(pattern,string):\n",
    "        return True\n",
    "    else:\n",
    "        return False\n",
    "strings=[\"Python12\",\"Code\",\"world%\",\"tools1234\",\"computer#$\",\"12test\"]\n",
    "result=filter(ends_with_alphanumeric,strings)\n",
    "print(\"Below are the strings that end with an alphanumeric character:\")\n",
    "for string in result:\n",
    "    print(string)"
   ]
  },
  {
   "cell_type": "markdown",
   "id": "878cd4d3",
   "metadata": {},
   "source": [
    "# Answer 27"
   ]
  },
  {
   "cell_type": "code",
   "execution_count": 4,
   "id": "bb7c9cd9",
   "metadata": {},
   "outputs": [
    {
     "name": "stdout",
     "output_type": "stream",
     "text": [
      "['#Doltiwal', '#xyzabc', '#Demonetization']\n"
     ]
    }
   ],
   "source": [
    "def extract_hashtags(text):\n",
    "    pattern=r'#\\w+'\n",
    "    result=re.findall(pattern,sample_text)\n",
    "    return result\n",
    "sample_text=\"\"\"RT @kapil_kausik: #Doltiwal I mean #xyzabc is \"hurt\" by #Demonetization as the same has rendered USELESS <ed><U+00A0><U+00BD><ed><U+00B1><U+0089> \"acquired funds\" No wo\"\"\"\n",
    "result=extract_hashtags(sample_text)\n",
    "print(result)"
   ]
  },
  {
   "cell_type": "markdown",
   "id": "fe791e14",
   "metadata": {},
   "source": [
    "# Answer 28"
   ]
  },
  {
   "cell_type": "code",
   "execution_count": 5,
   "id": "1bee81de",
   "metadata": {},
   "outputs": [
    {
     "name": "stdout",
     "output_type": "stream",
     "text": [
      "@Jags123456 Bharat band on 28??<ed><ed>Those who  are protesting #demonetization  are all different party leaders\n"
     ]
    }
   ],
   "source": [
    "def remove_symbols(text):\n",
    "    pattern=r'<U\\+\\w+>'\n",
    "    result=re.sub(pattern,\"\",sample_text)\n",
    "    return result\n",
    "sample_text=\"@Jags123456 Bharat band on 28??<ed><U+00A0><U+00BD><ed><U+00B8><U+0082>Those who  are protesting #demonetization  are all different party leaders\"\n",
    "result=remove_symbols(sample_text)\n",
    "print(result)"
   ]
  },
  {
   "cell_type": "markdown",
   "id": "c6dfe326",
   "metadata": {},
   "source": [
    "# Answer 29"
   ]
  },
  {
   "cell_type": "code",
   "execution_count": 9,
   "id": "cdfc5866",
   "metadata": {},
   "outputs": [
    {
     "name": "stdout",
     "output_type": "stream",
     "text": [
      "['12-09-1992', '15-12-1999']\n"
     ]
    }
   ],
   "source": [
    "def extract_dates(file_path):\n",
    "    f=open(file_path,'r')\n",
    "    pattern=r'\\d{2}-\\d{2}-\\d{4}'\n",
    "    dates=re.findall(pattern,f.read())\n",
    "    return dates\n",
    "sample_text=\"Ron was born on 12-09-1992 and he was admitted to school 15-12-1999.\"\n",
    "f=open('sample.txt','w')\n",
    "f.write(sample_text)\n",
    "dates=extract_dates(\"sample.txt\")\n",
    "print(dates)"
   ]
  },
  {
   "cell_type": "markdown",
   "id": "315d735d",
   "metadata": {},
   "source": [
    "# Answer 30"
   ]
  },
  {
   "cell_type": "code",
   "execution_count": 10,
   "id": "0e6a2aa6",
   "metadata": {},
   "outputs": [
    {
     "name": "stdout",
     "output_type": "stream",
     "text": [
      "following example creates ArrayList a capacity elements. 4 elements added ArrayList ArrayList trimmed accordingly.\n"
     ]
    }
   ],
   "source": [
    "def remove_words(text):\n",
    "    pattern=re.compile(r'\\b\\w{2,4}\\b ')\n",
    "    result=pattern.sub(\"\",sample_text)\n",
    "    return result\n",
    "sample_text=\"The following example creates an ArrayList with a capacity of 50 elements. 4 elements are then added to the ArrayList and the ArrayList is trimmed accordingly.\"\n",
    "result=remove_words(sample_text)\n",
    "print(result)"
   ]
  },
  {
   "cell_type": "code",
   "execution_count": null,
   "id": "6f39c845",
   "metadata": {},
   "outputs": [],
   "source": []
  }
 ],
 "metadata": {
  "kernelspec": {
   "display_name": "Python 3 (ipykernel)",
   "language": "python",
   "name": "python3"
  },
  "language_info": {
   "codemirror_mode": {
    "name": "ipython",
    "version": 3
   },
   "file_extension": ".py",
   "mimetype": "text/x-python",
   "name": "python",
   "nbconvert_exporter": "python",
   "pygments_lexer": "ipython3",
   "version": "3.11.4"
  }
 },
 "nbformat": 4,
 "nbformat_minor": 5
}
