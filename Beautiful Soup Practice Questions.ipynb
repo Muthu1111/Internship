{
 "cells": [
  {
   "cell_type": "code",
   "execution_count": 1,
   "id": "8ee672b9",
   "metadata": {},
   "outputs": [
    {
     "name": "stdout",
     "output_type": "stream",
     "text": [
      "Requirement already satisfied: bs4 in c:\\users\\muthu_trxgb42\\anaconda3\\lib\\site-packages (0.0.2)\n",
      "Requirement already satisfied: beautifulsoup4 in c:\\users\\muthu_trxgb42\\anaconda3\\lib\\site-packages (from bs4) (4.12.2)\n",
      "Requirement already satisfied: soupsieve>1.2 in c:\\users\\muthu_trxgb42\\anaconda3\\lib\\site-packages (from beautifulsoup4->bs4) (2.4)\n",
      "Requirement already satisfied: requests in c:\\users\\muthu_trxgb42\\anaconda3\\lib\\site-packages (2.31.0)\n",
      "Requirement already satisfied: charset-normalizer<4,>=2 in c:\\users\\muthu_trxgb42\\anaconda3\\lib\\site-packages (from requests) (2.0.4)\n",
      "Requirement already satisfied: idna<4,>=2.5 in c:\\users\\muthu_trxgb42\\anaconda3\\lib\\site-packages (from requests) (3.4)\n",
      "Requirement already satisfied: urllib3<3,>=1.21.1 in c:\\users\\muthu_trxgb42\\anaconda3\\lib\\site-packages (from requests) (1.26.16)\n",
      "Requirement already satisfied: certifi>=2017.4.17 in c:\\users\\muthu_trxgb42\\anaconda3\\lib\\site-packages (from requests) (2023.7.22)\n"
     ]
    }
   ],
   "source": [
    "!pip install bs4\n",
    "!pip install requests"
   ]
  },
  {
   "cell_type": "code",
   "execution_count": 1,
   "id": "8585598d",
   "metadata": {},
   "outputs": [],
   "source": [
    "from bs4 import BeautifulSoup\n",
    "import requests\n",
    "import pandas as pd\n",
    "import re"
   ]
  },
  {
   "cell_type": "markdown",
   "id": "b9ecc369",
   "metadata": {},
   "source": [
    " "
   ]
  },
  {
   "cell_type": "markdown",
   "id": "dfcf939d",
   "metadata": {},
   "source": [
    "1) Write a python program to display all the header tags from wikipedia.org."
   ]
  },
  {
   "cell_type": "code",
   "execution_count": 3,
   "id": "5b5225cc",
   "metadata": {},
   "outputs": [
    {
     "name": "stdout",
     "output_type": "stream",
     "text": [
      "Main Page\n",
      "Welcome to Wikipedia\n",
      "From today's featured article\n",
      "Did you know ...\n",
      "In the news\n",
      "On this day\n",
      "Today's featured picture\n",
      "Other areas of Wikipedia\n",
      "Wikipedia's sister projects\n",
      "Wikipedia languages\n"
     ]
    }
   ],
   "source": [
    "def display_header_tags(url):\n",
    "    page=requests.get(url)\n",
    "    if page.status_code==200:\n",
    "        soup=BeautifulSoup(page.content,'html.parser')\n",
    "        header_tags=soup.find_all(re.compile(r'^h[1-6]$'))\n",
    "        for tag in header_tags:\n",
    "            print(tag.text.strip())\n",
    "    else:\n",
    "        print(\"Can't fetch the data.\")\n",
    "url='https://en.wikipedia.org/wiki/Main_Page' #Wikipedia's main page\n",
    "display_header_tags(url)"
   ]
  },
  {
   "cell_type": "markdown",
   "id": "7f3bd8c2",
   "metadata": {},
   "source": [
    " "
   ]
  },
  {
   "cell_type": "markdown",
   "id": "8f52460f",
   "metadata": {},
   "source": [
    "2) Write a python program to display IMDB’s Top rated 100 movies’ data (i.e. name, rating, year of release) and make data frame."
   ]
  },
  {
   "cell_type": "code",
   "execution_count": 4,
   "id": "4eb6ee30",
   "metadata": {},
   "outputs": [],
   "source": [
    "page=requests.get(\"https://www.imdb.com/chart/top\")"
   ]
  },
  {
   "cell_type": "code",
   "execution_count": 5,
   "id": "94d616b8",
   "metadata": {},
   "outputs": [
    {
     "data": {
      "text/plain": [
       "<Response [403]>"
      ]
     },
     "execution_count": 5,
     "metadata": {},
     "output_type": "execute_result"
    }
   ],
   "source": [
    "page"
   ]
  },
  {
   "cell_type": "markdown",
   "id": "58a5a04f",
   "metadata": {},
   "source": [
    "We are getting the response status code for this website as 403. This indicates that scraping the data from this website is not possible."
   ]
  },
  {
   "cell_type": "markdown",
   "id": "4935dc99",
   "metadata": {},
   "source": [
    " "
   ]
  },
  {
   "cell_type": "markdown",
   "id": "c7e0cb4b",
   "metadata": {},
   "source": [
    "3) Write a python program to scrape mentioned details from dineout.co.in : i) Restaurant name ii) Cuisine iii) Location iv) Ratings v) Image URL."
   ]
  },
  {
   "cell_type": "code",
   "execution_count": 2,
   "id": "c3c975fd",
   "metadata": {},
   "outputs": [
    {
     "name": "stdout",
     "output_type": "stream",
     "text": [
      "Restaurant: Delia My Bar Headquarters\n",
      "Cuisines: North Indian, Chinese, Fast Food, Beverages\n",
      "Location: Karol Bagh, Central Delhi\n",
      "Rating: 4.1\n",
      "Image URL: https://im1.dineout.co.in/images/uploads/restaurant/sharpen/1/d/m/p133271-170455034765995fcb87ba1.jpg?tr=tr:n-medium\n",
      "\n",
      "Restaurant: The G.T. Road\n",
      "Cuisines: North Indian\n",
      "Location: M-Block,Connaught Place, Central Delhi\n",
      "Rating: 4.3\n",
      "Image URL: https://im1.dineout.co.in/images/uploads/restaurant/sharpen/3/l/l/p31393-171083403865f94176e32c0.jpg?tr=tr:n-medium\n",
      "\n",
      "Restaurant: My Bar Headquarters\n",
      "Cuisines: North Indian, Chinese\n",
      "Location: Connaught Place, Central Delhi\n",
      "Rating: 4\n",
      "Image URL: https://im1.dineout.co.in/images/uploads/restaurant/sharpen/1/d/f/p19636-16463919576221f295ae1f1.jpg?tr=tr:n-medium\n",
      "\n",
      "Restaurant: Connaught Club House\n",
      "Cuisines: North Indian, Asian, Continental, Mexican\n",
      "Location: Janpath, Central Delhi\n",
      "Rating: 4.4\n",
      "Image URL: https://im1.dineout.co.in/images/uploads/restaurant/sharpen/9/y/f/p97486-170556387265a8d6e0e2ea7.jpg?tr=tr:n-medium\n",
      "\n",
      "Restaurant: Berco's\n",
      "Cuisines: Chinese, Thai\n",
      "Location: Connaught Place, Central Delhi\n",
      "Rating: 4.3\n",
      "Image URL: https://im1.dineout.co.in/images/uploads/restaurant/sharpen/2/t/u/p237-16468990666229af7a72b08.jpg?tr=tr:n-medium\n",
      "\n",
      "Restaurant: Sandoz\n",
      "Cuisines: North Indian, Continental\n",
      "Location: Connaught Place, Central Delhi\n",
      "Rating: 4\n",
      "Image URL: https://im1.dineout.co.in/images/uploads/restaurant/sharpen/8/e/u/p80493-16064603115fc0a397716de.jpg?tr=tr:n-medium\n",
      "\n",
      "Restaurant: Unplugged Courtyard\n",
      "Cuisines: North Indian, Italian, Chinese, Turkish, Continental\n",
      "Location: Connaught Place, Central Delhi\n",
      "Rating: 4\n",
      "Image URL: https://im1.dineout.co.in/images/uploads/restaurant/sharpen/2/e/y/p20941-168915645564ae7b673b872.jpg?tr=tr:n-medium\n",
      "\n",
      "Restaurant: Oh My God\n",
      "Cuisines: Continental, North Indian, Chinese\n",
      "Location: F-Block,Connaught Place, Central Delhi\n",
      "Rating: 4\n",
      "Image URL: https://im1.dineout.co.in/images/uploads/restaurant/sharpen/2/s/q/p21753-162678610360f6c93732f2f.jpg?tr=tr:n-medium\n",
      "\n",
      "Restaurant: Kwality Restaurant\n",
      "Cuisines: North Indian, Continental, Mughlai\n",
      "Location: Regal Cinema Complex,Connaught Place, Central Delhi\n",
      "Rating: 4.4\n",
      "Image URL: https://im1.dineout.co.in/images/uploads/restaurant/sharpen/2/c/q/p2898-1704975651659fdd2302c2d.jpg?tr=tr:n-medium\n",
      "\n",
      "Restaurant: Article 21\n",
      "Cuisines: North Indian, Chinese, South Indian\n",
      "Location: Connaught Place, Central Delhi\n",
      "Rating: 3.8\n",
      "Image URL: https://im1.dineout.co.in/images/uploads/restaurant/sharpen/6/c/f/p62412-16067222575fc4a2d1001d3.jpg?tr=tr:n-medium\n",
      "\n",
      "Restaurant: Local\n",
      "Cuisines: North Indian, Asian, Continental\n",
      "Location: Scindia House,Connaught Place, Central Delhi\n",
      "Rating: 4\n",
      "Image URL: https://im1.dineout.co.in/images/uploads/restaurant/sharpen/2/b/t/p27452-15020105505986dcb6d147f.jpg?tr=tr:n-medium\n",
      "\n",
      "Restaurant: Tamasha\n",
      "Cuisines: Continental, Asian, Italian, North Indian\n",
      "Location: Connaught Place, Central Delhi\n",
      "Rating: 4.2\n",
      "Image URL: https://im1.dineout.co.in/images/uploads/restaurant/sharpen/2/a/j/p20996-145631488756cd9a0796608.jpg?tr=tr:n-medium\n",
      "\n",
      "Restaurant: Cafe MRP\n",
      "Cuisines: North Indian, Continental, Italian, Finger Food, Desserts, Beverages\n",
      "Location: Connaught Place, Central Delhi\n",
      "Rating: 5\n",
      "Image URL: https://im1.dineout.co.in/images/uploads/restaurant/sharpen/1/h/h/p128323-17024765806579bb2487b30.jpg?tr=tr:n-medium\n",
      "\n",
      "Restaurant: Nando's\n",
      "Cuisines: Portuguese, Mediterranean, Desserts, Beverages\n",
      "Location: M-Block,Connaught Place, Central Delhi\n",
      "Rating: 4.4\n",
      "Image URL: https://im1.dineout.co.in/images/uploads/restaurant/sharpen/1/u/v/p16769-168430644064647a08d354b.jpg?tr=tr:n-medium\n",
      "\n",
      "Restaurant: 38 Barracks\n",
      "Cuisines: North Indian, Chinese, Continental\n",
      "Location: M-Block,Connaught Place, Central Delhi\n",
      "Rating: 4.3\n",
      "Image URL: https://im1.dineout.co.in/images/uploads/restaurant/sharpen/2/s/d/p21171-1704789340659d055c4e182.jpg?tr=tr:n-medium\n",
      "\n",
      "Restaurant: Punjab Grill\n",
      "Cuisines: North Indian, Mughlai\n",
      "Location: Janpath, Central Delhi\n",
      "Rating: 3.7\n",
      "Image URL: https://im1.dineout.co.in/images/uploads/restaurant/sharpen/5/j/a/p54792-1630486205612f3ebd9d20b.jpg?tr=tr:n-medium\n",
      "\n",
      "Restaurant: Slice\n",
      "Cuisines: Italian, Fast Food\n",
      "Location: Connaught Place, Central Delhi\n",
      "Rating: 5\n",
      "Image URL: https://im1.dineout.co.in/images/uploads/restaurant/sharpen/1/x/q/p103848-1646199335621f0227c0a15.jpg?tr=tr:n-medium\n",
      "\n",
      "Restaurant: Hard Rock Cafe\n",
      "Cuisines: American, Continental, Finger Food\n",
      "Location: Connaught Place, Central Delhi\n",
      "Rating: 4.9\n",
      "Image URL: https://im1.dineout.co.in/images/uploads/restaurant/sharpen/1/j/g/p112287-1698923483654383db1a7f3.jpg?tr=tr:n-medium\n",
      "\n",
      "Restaurant: Farzi Cafe\n",
      "Cuisines: Modern Indian, Continental, Finger Food\n",
      "Location: Connaught Place, Central Delhi\n",
      "Rating: 4.1\n",
      "Image URL: https://im1.dineout.co.in/images/uploads/restaurant/sharpen/4/y/y/p4199-164188203361dd21b1a3174.jpg?tr=tr:n-medium\n",
      "\n",
      "Restaurant: Ce La Vie Kitchen & Bar\n",
      "Cuisines: Continental, Asian, North Indian\n",
      "Location: Connaught Place, Central Delhi\n",
      "Rating: 4.3\n",
      "Image URL: https://im1.dineout.co.in/images/uploads/restaurant/sharpen/1/c/o/p126736-169693761665253690bc6fb.jpg?tr=tr:n-medium\n",
      "\n"
     ]
    }
   ],
   "source": [
    "def scrape_restaurant_details(url):\n",
    "    page=requests.get(url)\n",
    "    if page.status_code==200:\n",
    "        soup=BeautifulSoup(page.content)\n",
    "        restaurant_containers = soup.find_all('div', class_='restnt-card restaurant')\n",
    "        restaurants = []\n",
    "        for restaurant in restaurant_containers:\n",
    "            name = restaurant.find('a').text.strip()\n",
    "            cuisines_text = restaurant.find('span', class_='double-line-ellipsis').text.strip()\n",
    "            cuisines = re.sub(r'^.*?\\|', '', cuisines_text).strip()  # Using regex to remove the unwanted part\n",
    "            location = restaurant.find('div', class_ = 'restnt-loc ellipsis').text.strip()\n",
    "            rating=restaurant.find('div', class_=lambda x: x and x.startswith('restnt-rating')).text.strip()\n",
    "            image_url=restaurant.find('img',class_='no-img')['data-src']\n",
    "            restaurants.append((name,cuisines,location,rating,image_url))\n",
    "        return restaurants\n",
    "    else:\n",
    "        print(\"Can't fetch the data.\")\n",
    "        \n",
    "url=\"https://www.dineout.co.in/delhi-restaurants\"\n",
    "restaurants=scrape_restaurant_details(url)            \n",
    "for name, cuisines,location,rating,image_url in restaurants:\n",
    "    print(\"Restaurant:\",name)\n",
    "    print(\"Cuisines:\",cuisines)\n",
    "    print(\"Location:\",location)\n",
    "    print(\"Rating:\",rating)\n",
    "    print(\"Image URL:\",image_url)\n",
    "    print()"
   ]
  },
  {
   "cell_type": "markdown",
   "id": "d78f6642",
   "metadata": {},
   "source": [
    " "
   ]
  },
  {
   "cell_type": "markdown",
   "id": "e5043125",
   "metadata": {},
   "source": [
    "4) Write s python program to display list of respected former finance minister of India(i.e. Name , Term of office) from https://presidentofindia.nic.in/former-presidents.htm and make data frame."
   ]
  },
  {
   "cell_type": "markdown",
   "id": "f5f098d3",
   "metadata": {},
   "source": [
    "The website is https://presidentofindia.nic.in/former-presidents and only the names and numbers of former presidents of India can be scraped from it. Hence, writing a Python program to display a list of the names and numbers of former presidents of India and making a data frame."
   ]
  },
  {
   "cell_type": "code",
   "execution_count": 3,
   "id": "934f0033",
   "metadata": {},
   "outputs": [
    {
     "name": "stdout",
     "output_type": "stream",
     "text": [
      "                            Name                   Number\n",
      "0           Shri Ram Nath Kovind  14th President of India\n",
      "1          Shri Pranab Mukherjee  13th President of India\n",
      "2   Smt Pratibha Devisingh Patil  12th President of India\n",
      "3         DR. A.P.J. Abdul Kalam  11th President of India\n",
      "4           Shri K. R. Narayanan  10th President of India\n",
      "5        Dr Shankar Dayal Sharma  9th  President of India\n",
      "6            Shri R Venkataraman   8th President of India\n",
      "7               Giani Zail Singh   7th President of India\n",
      "8      Shri Neelam Sanjiva Reddy   6th President of India\n",
      "9       Dr. Fakhruddin Ali Ahmed   5th President of India\n",
      "10  Shri Varahagiri Venkata Giri   4th President of India\n",
      "11              Dr. Zakir Husain   3rd President of India\n",
      "12  Dr. Sarvepalli Radhakrishnan   2nd President of India\n",
      "13           Dr. Rajendra Prasad   1st President of India\n"
     ]
    }
   ],
   "source": [
    "def display_former_presidents_list(url):\n",
    "    page=requests.get(url)\n",
    "    if page.status_code==200:\n",
    "        soup=BeautifulSoup(page.content)\n",
    "        names=[]\n",
    "        numbers=[]\n",
    "        for i in soup.find_all('h3'):\n",
    "            name=i.text.strip()\n",
    "            names.append(name)\n",
    "        for i in soup.find_all('h5'):\n",
    "            number=i.text.strip()\n",
    "            numbers.append(number)\n",
    "        former_presidents={'Name':names,'Number':numbers}\n",
    "        former_presidents_df=pd.DataFrame(former_presidents)\n",
    "        print(former_presidents_df)\n",
    "    else:\n",
    "        print(\"Can't fetch the data.\")\n",
    "    \n",
    "url=\"https://presidentofindia.nic.in/former-presidents\"\n",
    "display_former_presidents_list(url)"
   ]
  },
  {
   "cell_type": "code",
   "execution_count": null,
   "id": "1242d44c",
   "metadata": {},
   "outputs": [],
   "source": []
  }
 ],
 "metadata": {
  "kernelspec": {
   "display_name": "Python 3 (ipykernel)",
   "language": "python",
   "name": "python3"
  },
  "language_info": {
   "codemirror_mode": {
    "name": "ipython",
    "version": 3
   },
   "file_extension": ".py",
   "mimetype": "text/x-python",
   "name": "python",
   "nbconvert_exporter": "python",
   "pygments_lexer": "ipython3",
   "version": "3.11.4"
  }
 },
 "nbformat": 4,
 "nbformat_minor": 5
}
